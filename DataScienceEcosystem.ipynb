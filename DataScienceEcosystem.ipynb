{
 "cells": [
  {
   "cell_type": "markdown",
   "id": "709d4d6b",
   "metadata": {},
   "source": [
    "# Data Science Tools and Ecosystem \n",
    "\n"
   ]
  },
  {
   "cell_type": "markdown",
   "id": "634a1824",
   "metadata": {},
   "source": [
    "In this notebook, Data Science Tools and Ecosystem are summarized."
   ]
  },
  {
   "cell_type": "markdown",
   "id": "aa25ce52",
   "metadata": {},
   "source": [
    "**Objectives:**\n",
    "\n",
    "- Explore and evaluate arithmetic expressions in Python.\n",
    "- Understand the order of operations in Python expressions.\n",
    "- Use Jupyter notebook for interactive code development.\n",
    "- Familiarize with Markdown syntax for creating formatted text.\n",
    "- List popular languages for Data Science."
   ]
  },
  {
   "cell_type": "markdown",
   "id": "3a971298",
   "metadata": {},
   "source": [
    "Some of the popular languages that Data Scientists use are:\n"
   ]
  },
  {
   "cell_type": "markdown",
   "id": "ac5c8cda",
   "metadata": {},
   "source": [
    "1. Python\n",
    "2. R\n",
    "3. JAVA"
   ]
  },
  {
   "cell_type": "markdown",
   "id": "db44b263",
   "metadata": {},
   "source": [
    "Some of the commonly used libraries used by Data Scientists include:"
   ]
  },
  {
   "cell_type": "markdown",
   "id": "5a887ed7",
   "metadata": {},
   "source": [
    "1. numpy\n",
    "2. pandas \n",
    "3. skylearn"
   ]
  },
  {
   "cell_type": "markdown",
   "id": "87574c8d",
   "metadata": {},
   "source": [
    "Data Science Tools"
   ]
  },
  {
   "cell_type": "markdown",
   "id": "c0873fce",
   "metadata": {},
   "source": [
    "| Data Science Tools   |\n",
    "|----------------------|\n",
    "| Jupyter Notebook     |\n",
    "| RStudio              |\n",
    "| VS Code with Python  |"
   ]
  },
  {
   "cell_type": "markdown",
   "id": "93a7fe23",
   "metadata": {},
   "source": [
    "### Below are a few examples of evaluating arithmetic expressions in Python"
   ]
  },
  {
   "cell_type": "code",
   "execution_count": 4,
   "id": "c6e178d7",
   "metadata": {},
   "outputs": [
    {
     "data": {
      "text/plain": [
       "17"
      ]
     },
     "execution_count": 4,
     "metadata": {},
     "output_type": "execute_result"
    }
   ],
   "source": [
    "result = (3 * 4) + 5\n",
    "result"
   ]
  },
  {
   "cell_type": "code",
   "execution_count": 5,
   "id": "14f5f8e2",
   "metadata": {},
   "outputs": [
    {
     "data": {
      "text/plain": [
       "3.3333333333333335"
      ]
     },
     "execution_count": 5,
     "metadata": {},
     "output_type": "execute_result"
    }
   ],
   "source": [
    "\"\"\"This will convert 200 minutes to hours by diving by 60\"\"\"\n",
    "200/60"
   ]
  },
  {
   "cell_type": "markdown",
   "id": "cab5fc73",
   "metadata": {},
   "source": [
    "## Author\n",
    "Pavel Skalazub"
   ]
  },
  {
   "cell_type": "code",
   "execution_count": null,
   "id": "646f1c1a",
   "metadata": {},
   "outputs": [],
   "source": []
  }
 ],
 "metadata": {
  "kernelspec": {
   "display_name": "Python 3 (ipykernel)",
   "language": "python",
   "name": "python3"
  },
  "language_info": {
   "codemirror_mode": {
    "name": "ipython",
    "version": 3
   },
   "file_extension": ".py",
   "mimetype": "text/x-python",
   "name": "python",
   "nbconvert_exporter": "python",
   "pygments_lexer": "ipython3",
   "version": "3.11.4"
  }
 },
 "nbformat": 4,
 "nbformat_minor": 5
}
